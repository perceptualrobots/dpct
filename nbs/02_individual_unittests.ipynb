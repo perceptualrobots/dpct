{
 "cells": [
  {
   "cell_type": "markdown",
   "id": "4e09d007",
   "metadata": {},
   "source": [
    "---\n",
    "output-file: individual-unittests.html\n",
    "title: DHPCTIndividual unittests\n",
    "\n",
    "---\n"
   ]
  },
  {
   "cell_type": "code",
   "execution_count": null,
   "id": "fa57926e",
   "metadata": {},
   "outputs": [],
   "source": [
    "%reload_ext autoreload\n",
    "%autoreload 2"
   ]
  },
  {
   "cell_type": "code",
   "execution_count": null,
   "id": "a8c52d38",
   "metadata": {},
   "outputs": [],
   "source": [
    "#| default_exp individual_unittests\n"
   ]
  },
  {
   "cell_type": "code",
   "execution_count": null,
   "id": "d2cff524",
   "metadata": {},
   "outputs": [],
   "source": [
    "#| hide\n",
    "import nbdev; nbdev.nbdev_export()"
   ]
  }
 ],
 "metadata": {
  "kernelspec": {
   "display_name": "python3",
   "language": "python",
   "name": "python3"
  }
 },
 "nbformat": 4,
 "nbformat_minor": 5
}
