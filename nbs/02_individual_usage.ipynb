{
 "cells": [
  {
   "cell_type": "markdown",
   "id": "4e09d007",
   "metadata": {},
   "source": [
    "---\n",
    "output-file: individual-usage.html\n",
    "title: DHPCTIndividual usage\n",
    "\n",
    "---\n"
   ]
  },
  {
   "cell_type": "code",
   "execution_count": 1,
   "id": "fa57926e",
   "metadata": {},
   "outputs": [],
   "source": [
    "%reload_ext autoreload\n",
    "%autoreload 2"
   ]
  },
  {
   "cell_type": "code",
   "execution_count": 2,
   "id": "a8c52d38",
   "metadata": {},
   "outputs": [],
   "source": [
    "#| default_exp individual_usage\n"
   ]
  },
  {
   "cell_type": "code",
   "execution_count": 3,
   "id": "d2cff524",
   "metadata": {},
   "outputs": [],
   "source": [
    "#| hide\n",
    "import nbdev; nbdev.nbdev_export()"
   ]
  }
 ],
 "metadata": {
  "kernelspec": {
   "display_name": ".venv",
   "language": "python",
   "name": "python3"
  },
  "language_info": {
   "codemirror_mode": {
    "name": "ipython",
    "version": 3
   },
   "file_extension": ".py",
   "mimetype": "text/x-python",
   "name": "python",
   "nbconvert_exporter": "python",
   "pygments_lexer": "ipython3",
   "version": "3.9.11"
  }
 },
 "nbformat": 4,
 "nbformat_minor": 5
}
