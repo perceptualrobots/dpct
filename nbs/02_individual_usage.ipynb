{
 "cells": [
  {
   "cell_type": "raw",
   "id": "4e09d007",
   "metadata": {},
   "source": [
    "---\n",
    "output-file: individual-usage.html\n",
    "title: DHPCTIndividual usage\n",
    "\n",
    "---\n"
   ]
  },
  {
   "cell_type": "code",
   "execution_count": 4,
   "id": "fa57926e",
   "metadata": {},
   "outputs": [],
   "source": [
    "%reload_ext autoreload\n",
    "%autoreload 2"
   ]
  },
  {
   "cell_type": "code",
   "execution_count": 5,
   "id": "a8c52d38",
   "metadata": {},
   "outputs": [],
   "source": [
    "#| default_exp individual_usage\n"
   ]
  },
  {
   "cell_type": "code",
   "execution_count": 6,
   "id": "d2cff524",
   "metadata": {},
   "outputs": [],
   "source": [
    "#| hide\n",
    "import nbdev; nbdev.nbdev_export()"
   ]
  }
 ],
 "metadata": {
  "kernelspec": {
   "display_name": "python3",
   "language": "python",
   "name": "python3"
  },
  "language_info": {
   "codemirror_mode": {
    "name": "ipython",
    "version": 3
   },
   "file_extension": ".py",
   "mimetype": "text/x-python",
   "name": "python",
   "nbconvert_exporter": "python",
   "pygments_lexer": "ipython3",
   "version": "3.9.13"
  }
 },
 "nbformat": 4,
 "nbformat_minor": 5
}
